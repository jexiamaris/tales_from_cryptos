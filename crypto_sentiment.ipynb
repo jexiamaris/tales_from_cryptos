{
 "metadata": {
  "language_info": {
   "codemirror_mode": {
    "name": "ipython",
    "version": 3
   },
   "file_extension": ".py",
   "mimetype": "text/x-python",
   "name": "python",
   "nbconvert_exporter": "python",
   "pygments_lexer": "ipython3",
   "version": "3.8.3-final"
  },
  "orig_nbformat": 2,
  "kernelspec": {
   "name": "python3",
   "display_name": "Python 3.8.3 64-bit (conda)",
   "metadata": {
    "interpreter": {
     "hash": "3b2d1872a97fb64bbb0bf089e5dc4a4b17c31375caf39a3144f71c656be998ab"
    }
   }
  }
 },
 "nbformat": 4,
 "nbformat_minor": 2,
 "cells": [
  {
   "source": [
    "## News Headlines Sentiment"
   ],
   "cell_type": "markdown",
   "metadata": {}
  },
  {
   "cell_type": "code",
   "execution_count": 66,
   "metadata": {},
   "outputs": [
    {
     "output_type": "stream",
     "name": "stderr",
     "text": [
      "[nltk_data] Downloading package vader_lexicon to\n[nltk_data]     C:\\Users\\jexib\\AppData\\Roaming\\nltk_data...\n[nltk_data]   Package vader_lexicon is already up-to-date!\n"
     ]
    },
    {
     "output_type": "execute_result",
     "data": {
      "text/plain": [
       "True"
      ]
     },
     "metadata": {},
     "execution_count": 66
    }
   ],
   "source": [
    "# Initial imports\n",
    "import os\n",
    "import pandas as pd\n",
    "from newsapi import NewsApiClient\n",
    "from dotenv import load_dotenv\n",
    "import nltk\n",
    "from nltk.sentiment.vader import SentimentIntensityAnalyzer\n",
    "nltk.downloader.download('vader_lexicon')\n",
    "#nltk.download('vader_lexicon')\n",
    "analyzer = SentimentIntensityAnalyzer()\n",
    "\n",
    "%matplotlib inline\n",
    "load_dotenv()"
   ]
  },
  {
   "cell_type": "code",
   "execution_count": 67,
   "metadata": {},
   "outputs": [],
   "source": [
    "# Read your api key environment variable\n",
    "api_key = os.getenv(\"news_api\")"
   ]
  },
  {
   "cell_type": "code",
   "execution_count": 68,
   "metadata": {},
   "outputs": [
    {
     "output_type": "execute_result",
     "data": {
      "text/plain": [
       "str"
      ]
     },
     "metadata": {},
     "execution_count": 68
    }
   ],
   "source": [
    "type(api_key)"
   ]
  },
  {
   "cell_type": "code",
   "execution_count": 69,
   "metadata": {},
   "outputs": [],
   "source": [
    "# Create a newsapi client\n",
    "newsapi = NewsApiClient(api_key)"
   ]
  },
  {
   "cell_type": "code",
   "execution_count": 70,
   "metadata": {},
   "outputs": [
    {
     "output_type": "execute_result",
     "data": {
      "text/plain": [
       "4790"
      ]
     },
     "metadata": {},
     "execution_count": 70
    }
   ],
   "source": [
    "# Fetch the Bitcoin news articles\n",
    "bitcoin_news = newsapi.get_everything(q=\"bitcoin\", language=\"en\")\n",
    "bitcoin_news[\"totalResults\"]"
   ]
  },
  {
   "cell_type": "code",
   "execution_count": 74,
   "metadata": {},
   "outputs": [
    {
     "output_type": "stream",
     "name": "stdout",
     "text": [
      "An Engineer Gets 9 Years for Stealing $10M From Microsoft\nIs the New Visa Bitcoin Rewards Card Worth It?\nPayPal now lets all US users buy, sell and hold cryptocurrency\nDOJ says it seized over $1 billion in bitcoin from the Silk Road drugs marketplace\nBitcoin is flirting with $20,000 again. How high will it go this time?\nBitcoin Could Hit $20K Again But This Time No One Cares\nAs Crypto comes back, Binance-backed Injective Protocol launches Testnet for its DeFi trading platform\nThe Morning After: Xbox Series X and Series S reviews are in\nBitcoin soars after BlackRock says it could replace gold\n'Individual X' stole $1 billion in crypto from Silk Road. U.S. officials just seized it.\nOnline Shopping, Virus in Winter, Stock Market: Your Monday Evening Briefing\nMaisie Williams asks about Bitcoin. Memefest ensues, and Elon Musk joins the party.\nThe DOJ Seized Over a Billion Dollars From Silk Road's Bitcoin Coffers\nMicrosoft engineer gets nine years for stealing $10M from Microsoft\nBitcoin price soars above $18,000, the highest level since 2017\nBitcoin hits nearly three-year peak, homes in on record - Reuters.com\nCryptocurrency: Bitcoin hits three-year high as investors jump in - BBC News\nHow American investors are buying bitcoin - Reuters.com\nBitcoin falls 6% in Asian trade - Reuters\nBitcoin slumps more than 5% in volatile trade - Reuters UK\n"
     ]
    }
   ],
   "source": [
    "for article in bitcoin_news[\"articles\"]:\n",
    "    return (article[\"title\"])\n",
    "\n",
    "\n",
    "#bitcoin_news[\"articles\"][2][\"title\"]"
   ]
  },
  {
   "cell_type": "code",
   "execution_count": 72,
   "metadata": {},
   "outputs": [
    {
     "output_type": "execute_result",
     "data": {
      "text/plain": [
       "1297"
      ]
     },
     "metadata": {},
     "execution_count": 72
    }
   ],
   "source": [
    "# Fetch the Ethereum news articles\n",
    "ethereum_news = newsapi.get_everything(q=\"ethereum\", language=\"en\")\n",
    "ethereum_news[\"totalResults\"]"
   ]
  },
  {
   "cell_type": "code",
   "execution_count": 79,
   "metadata": {},
   "outputs": [
    {
     "output_type": "execute_result",
     "data": {
      "text/plain": [
       "['An Engineer Gets 9 Years for Stealing $10M From Microsoft',\n",
       " 'Is the New Visa Bitcoin Rewards Card Worth It?',\n",
       " 'PayPal now lets all US users buy, sell and hold cryptocurrency',\n",
       " 'DOJ says it seized over $1 billion in bitcoin from the Silk Road drugs marketplace',\n",
       " 'Bitcoin is flirting with $20,000 again. How high will it go this time?',\n",
       " 'Bitcoin Could Hit $20K Again But This Time No One Cares',\n",
       " 'As Crypto comes back, Binance-backed Injective Protocol launches Testnet for its DeFi trading platform',\n",
       " 'The Morning After: Xbox Series X and Series S reviews are in',\n",
       " 'Bitcoin soars after BlackRock says it could replace gold',\n",
       " \"'Individual X' stole $1 billion in crypto from Silk Road. U.S. officials just seized it.\",\n",
       " 'Online Shopping, Virus in Winter, Stock Market: Your Monday Evening Briefing',\n",
       " 'Maisie Williams asks about Bitcoin. Memefest ensues, and Elon Musk joins the party.',\n",
       " \"The DOJ Seized Over a Billion Dollars From Silk Road's Bitcoin Coffers\",\n",
       " 'Microsoft engineer gets nine years for stealing $10M from Microsoft',\n",
       " 'Bitcoin price soars above $18,000, the highest level since 2017',\n",
       " 'Bitcoin hits nearly three-year peak, homes in on record - Reuters.com',\n",
       " 'Cryptocurrency: Bitcoin hits three-year high as investors jump in - BBC News',\n",
       " 'How American investors are buying bitcoin - Reuters.com',\n",
       " 'Bitcoin falls 6% in Asian trade - Reuters',\n",
       " 'Bitcoin slumps more than 5% in volatile trade - Reuters UK']"
      ]
     },
     "metadata": {},
     "execution_count": 79
    }
   ],
   "source": [
    "bitcoin_titles = [(article[\"title\"]) for article in bitcoin_news[\"articles\"]]\n",
    "bitcoin_titles"
   ]
  },
  {
   "cell_type": "code",
   "execution_count": 94,
   "metadata": {},
   "outputs": [
    {
     "output_type": "execute_result",
     "data": {
      "text/plain": [
       "   Compound  Positive  Neutral  Negative  \\\n",
       "0   -0.6705     0.064    0.737     0.199   \n",
       "1    0.6369     0.162    0.838     0.000   \n",
       "2    0.2144     0.053    0.947     0.000   \n",
       "3    0.2263     0.049    0.951     0.000   \n",
       "4    0.2023     0.050    0.950     0.000   \n",
       "\n",
       "                                                Text  \n",
       "0  A former Microsoft software engineer from Ukra...  \n",
       "1  Visa has partnered with cryptocurrency startup...  \n",
       "2  PayPal is bringing its newly-announced support...  \n",
       "3  Two days ago, about $1 billion worth of bitcoi...  \n",
       "4  In November 2017, after an absolutely massive,...  "
      ],
      "text/html": "<div>\n<style scoped>\n    .dataframe tbody tr th:only-of-type {\n        vertical-align: middle;\n    }\n\n    .dataframe tbody tr th {\n        vertical-align: top;\n    }\n\n    .dataframe thead th {\n        text-align: right;\n    }\n</style>\n<table border=\"1\" class=\"dataframe\">\n  <thead>\n    <tr style=\"text-align: right;\">\n      <th></th>\n      <th>Compound</th>\n      <th>Positive</th>\n      <th>Neutral</th>\n      <th>Negative</th>\n      <th>Text</th>\n    </tr>\n  </thead>\n  <tbody>\n    <tr>\n      <th>0</th>\n      <td>-0.6705</td>\n      <td>0.064</td>\n      <td>0.737</td>\n      <td>0.199</td>\n      <td>A former Microsoft software engineer from Ukra...</td>\n    </tr>\n    <tr>\n      <th>1</th>\n      <td>0.6369</td>\n      <td>0.162</td>\n      <td>0.838</td>\n      <td>0.000</td>\n      <td>Visa has partnered with cryptocurrency startup...</td>\n    </tr>\n    <tr>\n      <th>2</th>\n      <td>0.2144</td>\n      <td>0.053</td>\n      <td>0.947</td>\n      <td>0.000</td>\n      <td>PayPal is bringing its newly-announced support...</td>\n    </tr>\n    <tr>\n      <th>3</th>\n      <td>0.2263</td>\n      <td>0.049</td>\n      <td>0.951</td>\n      <td>0.000</td>\n      <td>Two days ago, about $1 billion worth of bitcoi...</td>\n    </tr>\n    <tr>\n      <th>4</th>\n      <td>0.2023</td>\n      <td>0.050</td>\n      <td>0.950</td>\n      <td>0.000</td>\n      <td>In November 2017, after an absolutely massive,...</td>\n    </tr>\n  </tbody>\n</table>\n</div>"
     },
     "metadata": {},
     "execution_count": 94
    }
   ],
   "source": [
    "# Create the Bitcoin sentiment scores DataFrame\n",
    "bitcoin_titles = [(article[\"title\"]) for article in bitcoin_news[\"articles\"]]\n",
    "def get_sentiment(score):\n",
    "   result = 0 # Neutral by default\n",
    "   if score >= 0.05: # Positive\n",
    "        result = 1\n",
    "   elif score <= -0.05: # Negative\n",
    "        result= -1\n",
    "   return result\n",
    "\n",
    "text_sent ={\n",
    "    \"text_compound\": [],\n",
    "    \"text_pos\": [],\n",
    "    \"text_neu\":[],\n",
    "    \"text_neg\":[],\n",
    "    \"text_sent\":[],\n",
    "}\n",
    "\n",
    "# Get sentiment for the text and the title\n",
    "for article in bitcoin_news[\"articles\"]:\n",
    "#for index, row in bitcoin_news:\n",
    "    try:\n",
    "        # Sentiment scoring with VADER\n",
    "        \n",
    "        text_sentiment = analyzer.polarity_scores(article[\"content\"])\n",
    "        text_sent[\"text_compound\"].append(text_sentiment[\"compound\"])\n",
    "        text_sent[\"text_pos\"].append(text_sentiment[\"pos\"])\n",
    "        text_sent[\"text_neu\"].append(text_sentiment[\"neu\"])\n",
    "        text_sent[\"text_neg\"].append(text_sentiment[\"neg\"])\n",
    "        text_sent[\"text_sent\"].append(article[\"content\"])\n",
    "    except AttributeError:\n",
    "        pass\n",
    "\n",
    "# Attaching sentiment columns to the News DataFrame\n",
    "\n",
    "bitcoin_sent_df = pd.DataFrame(text_sent)\n",
    "bitcoin_sent_df = bitcoin_sent_df.rename(columns={\"text_compound\":\"Compound\", \"text_pos\": \"Positive\", \"text_neu\": \"Neutral\", \"text_neg\": \"Negative\", \"text_sent\":\"Text\"})\n",
    "\n",
    "bitcoin_sent_df.head()"
   ]
  },
  {
   "cell_type": "code",
   "execution_count": 96,
   "metadata": {},
   "outputs": [
    {
     "output_type": "execute_result",
     "data": {
      "text/plain": [
       "   Compound  Positive  Neutral  Negative  \\\n",
       "0    0.2144     0.053    0.947       0.0   \n",
       "1    0.0000     0.000    1.000       0.0   \n",
       "2    0.0000     0.000    1.000       0.0   \n",
       "3    0.4215     0.088    0.912       0.0   \n",
       "4    0.8779     0.318    0.682       0.0   \n",
       "\n",
       "                                                Text  \n",
       "0  PayPal is bringing its newly-announced support...  \n",
       "1  FILE PHOTO: Representation of the Ethereum vir...  \n",
       "2  FILE PHOTO: Representation of the Ethereum vir...  \n",
       "3  LONDON (Reuters) - Digital currencies Ethereum...  \n",
       "4  PayPal has launched the Generosity Network, a ...  "
      ],
      "text/html": "<div>\n<style scoped>\n    .dataframe tbody tr th:only-of-type {\n        vertical-align: middle;\n    }\n\n    .dataframe tbody tr th {\n        vertical-align: top;\n    }\n\n    .dataframe thead th {\n        text-align: right;\n    }\n</style>\n<table border=\"1\" class=\"dataframe\">\n  <thead>\n    <tr style=\"text-align: right;\">\n      <th></th>\n      <th>Compound</th>\n      <th>Positive</th>\n      <th>Neutral</th>\n      <th>Negative</th>\n      <th>Text</th>\n    </tr>\n  </thead>\n  <tbody>\n    <tr>\n      <th>0</th>\n      <td>0.2144</td>\n      <td>0.053</td>\n      <td>0.947</td>\n      <td>0.0</td>\n      <td>PayPal is bringing its newly-announced support...</td>\n    </tr>\n    <tr>\n      <th>1</th>\n      <td>0.0000</td>\n      <td>0.000</td>\n      <td>1.000</td>\n      <td>0.0</td>\n      <td>FILE PHOTO: Representation of the Ethereum vir...</td>\n    </tr>\n    <tr>\n      <th>2</th>\n      <td>0.0000</td>\n      <td>0.000</td>\n      <td>1.000</td>\n      <td>0.0</td>\n      <td>FILE PHOTO: Representation of the Ethereum vir...</td>\n    </tr>\n    <tr>\n      <th>3</th>\n      <td>0.4215</td>\n      <td>0.088</td>\n      <td>0.912</td>\n      <td>0.0</td>\n      <td>LONDON (Reuters) - Digital currencies Ethereum...</td>\n    </tr>\n    <tr>\n      <th>4</th>\n      <td>0.8779</td>\n      <td>0.318</td>\n      <td>0.682</td>\n      <td>0.0</td>\n      <td>PayPal has launched the Generosity Network, a ...</td>\n    </tr>\n  </tbody>\n</table>\n</div>"
     },
     "metadata": {},
     "execution_count": 96
    }
   ],
   "source": [
    "# Create the ethereum sentiment scores DataFrame\n",
    "def get_sentiment(score):\n",
    "   result = 0 # Neutral by default\n",
    "   if score >= 0.05: # Positive\n",
    "        result = 1\n",
    "   elif score <= -0.05: # Negative\n",
    "        result= -1\n",
    "   return result\n",
    "\n",
    "text_sent ={\n",
    "    \"text_compound\": [],\n",
    "    \"text_pos\": [],\n",
    "    \"text_neu\":[],\n",
    "    \"text_neg\":[],\n",
    "    \"text_sent\":[],\n",
    "}\n",
    "\n",
    "# Get sentiment for the text and the title\n",
    "for article in ethereum_news[\"articles\"]:\n",
    "#for index, row in bitcoin_news:\n",
    "    try:\n",
    "        # Sentiment scoring with VADER\n",
    "        \n",
    "        text_sentiment = analyzer.polarity_scores(article[\"content\"])\n",
    "        text_sent[\"text_compound\"].append(text_sentiment[\"compound\"])\n",
    "        text_sent[\"text_pos\"].append(text_sentiment[\"pos\"])\n",
    "        text_sent[\"text_neu\"].append(text_sentiment[\"neu\"])\n",
    "        text_sent[\"text_neg\"].append(text_sentiment[\"neg\"])\n",
    "        text_sent[\"text_sent\"].append(article[\"content\"])\n",
    "    except AttributeError:\n",
    "        pass\n",
    "\n",
    "# Attaching sentiment columns to the News DataFrame\n",
    "\n",
    "ethereum_sent_df = pd.DataFrame(text_sent)\n",
    "ethereum_sent_df = ethereum_sent_df.rename(columns={\"text_compound\":\"Compound\", \"text_pos\": \"Positive\", \"text_neu\": \"Neutral\", \"text_neg\": \"Negative\", \"text_sent\":\"Text\"})\n",
    "\n",
    "ethereum_sent_df.head()"
   ]
  },
  {
   "cell_type": "code",
   "execution_count": 97,
   "metadata": {},
   "outputs": [
    {
     "output_type": "execute_result",
     "data": {
      "text/plain": [
       "        Compound   Positive    Neutral   Negative\n",
       "count  19.000000  19.000000  19.000000  19.000000\n",
       "mean    0.108116   0.064895   0.901000   0.034053\n",
       "std     0.395648   0.061939   0.093549   0.067692\n",
       "min    -0.670500   0.000000   0.716000   0.000000\n",
       "25%     0.000000   0.000000   0.833500   0.000000\n",
       "50%     0.202300   0.053000   0.941000   0.000000\n",
       "75%     0.325950   0.093000   0.975500   0.031000\n",
       "max     0.765000   0.174000   1.000000   0.215000"
      ],
      "text/html": "<div>\n<style scoped>\n    .dataframe tbody tr th:only-of-type {\n        vertical-align: middle;\n    }\n\n    .dataframe tbody tr th {\n        vertical-align: top;\n    }\n\n    .dataframe thead th {\n        text-align: right;\n    }\n</style>\n<table border=\"1\" class=\"dataframe\">\n  <thead>\n    <tr style=\"text-align: right;\">\n      <th></th>\n      <th>Compound</th>\n      <th>Positive</th>\n      <th>Neutral</th>\n      <th>Negative</th>\n    </tr>\n  </thead>\n  <tbody>\n    <tr>\n      <th>count</th>\n      <td>19.000000</td>\n      <td>19.000000</td>\n      <td>19.000000</td>\n      <td>19.000000</td>\n    </tr>\n    <tr>\n      <th>mean</th>\n      <td>0.108116</td>\n      <td>0.064895</td>\n      <td>0.901000</td>\n      <td>0.034053</td>\n    </tr>\n    <tr>\n      <th>std</th>\n      <td>0.395648</td>\n      <td>0.061939</td>\n      <td>0.093549</td>\n      <td>0.067692</td>\n    </tr>\n    <tr>\n      <th>min</th>\n      <td>-0.670500</td>\n      <td>0.000000</td>\n      <td>0.716000</td>\n      <td>0.000000</td>\n    </tr>\n    <tr>\n      <th>25%</th>\n      <td>0.000000</td>\n      <td>0.000000</td>\n      <td>0.833500</td>\n      <td>0.000000</td>\n    </tr>\n    <tr>\n      <th>50%</th>\n      <td>0.202300</td>\n      <td>0.053000</td>\n      <td>0.941000</td>\n      <td>0.000000</td>\n    </tr>\n    <tr>\n      <th>75%</th>\n      <td>0.325950</td>\n      <td>0.093000</td>\n      <td>0.975500</td>\n      <td>0.031000</td>\n    </tr>\n    <tr>\n      <th>max</th>\n      <td>0.765000</td>\n      <td>0.174000</td>\n      <td>1.000000</td>\n      <td>0.215000</td>\n    </tr>\n  </tbody>\n</table>\n</div>"
     },
     "metadata": {},
     "execution_count": 97
    }
   ],
   "source": [
    "# Describe the Bitcoin Sentiment\n",
    "bitcoin_sent_df.describe()"
   ]
  },
  {
   "cell_type": "code",
   "execution_count": 98,
   "metadata": {},
   "outputs": [
    {
     "output_type": "execute_result",
     "data": {
      "text/plain": [
       "        Compound   Positive    Neutral   Negative\n",
       "count  20.000000  20.000000  20.000000  20.000000\n",
       "mean    0.175055   0.074750   0.904200   0.021050\n",
       "std     0.375513   0.094553   0.115007   0.054473\n",
       "min    -0.493900   0.000000   0.672000   0.000000\n",
       "25%     0.000000   0.000000   0.866000   0.000000\n",
       "50%     0.000000   0.061500   0.932000   0.000000\n",
       "75%     0.430825   0.118500   1.000000   0.000000\n",
       "max     0.946800   0.318000   1.000000   0.196000"
      ],
      "text/html": "<div>\n<style scoped>\n    .dataframe tbody tr th:only-of-type {\n        vertical-align: middle;\n    }\n\n    .dataframe tbody tr th {\n        vertical-align: top;\n    }\n\n    .dataframe thead th {\n        text-align: right;\n    }\n</style>\n<table border=\"1\" class=\"dataframe\">\n  <thead>\n    <tr style=\"text-align: right;\">\n      <th></th>\n      <th>Compound</th>\n      <th>Positive</th>\n      <th>Neutral</th>\n      <th>Negative</th>\n    </tr>\n  </thead>\n  <tbody>\n    <tr>\n      <th>count</th>\n      <td>20.000000</td>\n      <td>20.000000</td>\n      <td>20.000000</td>\n      <td>20.000000</td>\n    </tr>\n    <tr>\n      <th>mean</th>\n      <td>0.175055</td>\n      <td>0.074750</td>\n      <td>0.904200</td>\n      <td>0.021050</td>\n    </tr>\n    <tr>\n      <th>std</th>\n      <td>0.375513</td>\n      <td>0.094553</td>\n      <td>0.115007</td>\n      <td>0.054473</td>\n    </tr>\n    <tr>\n      <th>min</th>\n      <td>-0.493900</td>\n      <td>0.000000</td>\n      <td>0.672000</td>\n      <td>0.000000</td>\n    </tr>\n    <tr>\n      <th>25%</th>\n      <td>0.000000</td>\n      <td>0.000000</td>\n      <td>0.866000</td>\n      <td>0.000000</td>\n    </tr>\n    <tr>\n      <th>50%</th>\n      <td>0.000000</td>\n      <td>0.061500</td>\n      <td>0.932000</td>\n      <td>0.000000</td>\n    </tr>\n    <tr>\n      <th>75%</th>\n      <td>0.430825</td>\n      <td>0.118500</td>\n      <td>1.000000</td>\n      <td>0.000000</td>\n    </tr>\n    <tr>\n      <th>max</th>\n      <td>0.946800</td>\n      <td>0.318000</td>\n      <td>1.000000</td>\n      <td>0.196000</td>\n    </tr>\n  </tbody>\n</table>\n</div>"
     },
     "metadata": {},
     "execution_count": 98
    }
   ],
   "source": [
    "# Describe the Ethereum Sentiment\n",
    "ethereum_sent_df.describe()"
   ]
  },
  {
   "source": [
    "### Questions:\n",
    "Q: Which coin had the highest mean positive score?\n",
    "A: \n",
    "\n",
    "Q: Which coin had the highest compound score?\n",
    "A:\n",
    "\n",
    "Q. Which coin had the highest positive score?\n",
    "A:"
   ],
   "cell_type": "markdown",
   "metadata": {}
  },
  {
   "source": [
    "## Tokenizer"
   ],
   "cell_type": "markdown",
   "metadata": {}
  },
  {
   "cell_type": "code",
   "execution_count": 99,
   "metadata": {},
   "outputs": [],
   "source": [
    "from nltk.tokenize import word_tokenize, sent_tokenize\n",
    "from nltk.corpus import stopwords\n",
    "from nltk.stem import WordNetLemmatizer, PorterStemmer\n",
    "from string import punctuation\n",
    "import re"
   ]
  },
  {
   "cell_type": "code",
   "execution_count": 13,
   "metadata": {},
   "outputs": [],
   "source": [
    "# Expand the default stopwords list if necessary\n"
   ]
  },
  {
   "cell_type": "code",
   "execution_count": 103,
   "metadata": {},
   "outputs": [],
   "source": [
    "# Complete the tokenizer function\n",
    "lemmatizer = WordNetLemmatizer()\n",
    "def tokenizer(text):\n",
    "    sw = stopwords.words('english')\n",
    "    regex = re.compile(\"[^a-zA-Z ]\")\n",
    "    re_clean = regex.sub('', text)\n",
    "    words = word_tokenize(re_clean)\n",
    "    lem = [lemmatizer.lemmatize(word) for word in words]\n",
    "    output = [word.lower() for word in lem if word.lower() not in sw]\n",
    "    return ' '.join(output)"
   ]
  },
  {
   "cell_type": "code",
   "execution_count": 106,
   "metadata": {},
   "outputs": [
    {
     "output_type": "execute_result",
     "data": {
      "text/plain": [
       "   Compound  Positive  Neutral  Negative  \\\n",
       "0   -0.6705     0.064    0.737     0.199   \n",
       "1    0.6369     0.162    0.838     0.000   \n",
       "2    0.2144     0.053    0.947     0.000   \n",
       "3    0.2263     0.049    0.951     0.000   \n",
       "4    0.2023     0.050    0.950     0.000   \n",
       "\n",
       "                                                Text  \\\n",
       "0  A former Microsoft software engineer from Ukra...   \n",
       "1  Visa has partnered with cryptocurrency startup...   \n",
       "2  PayPal is bringing its newly-announced support...   \n",
       "3  Two days ago, about $1 billion worth of bitcoi...   \n",
       "4  In November 2017, after an absolutely massive,...   \n",
       "\n",
       "                                               Token  \n",
       "0  former microsoft software engineer ukraine ha ...  \n",
       "1  visahas partnered cryptocurrency startup block...  \n",
       "2  paypal bringing newlyannounced support cryptoc...  \n",
       "3  two day ago billion worth bitcoin sat dormant ...  \n",
       "4  november absolutely massive twomonth rally bit...  "
      ],
      "text/html": "<div>\n<style scoped>\n    .dataframe tbody tr th:only-of-type {\n        vertical-align: middle;\n    }\n\n    .dataframe tbody tr th {\n        vertical-align: top;\n    }\n\n    .dataframe thead th {\n        text-align: right;\n    }\n</style>\n<table border=\"1\" class=\"dataframe\">\n  <thead>\n    <tr style=\"text-align: right;\">\n      <th></th>\n      <th>Compound</th>\n      <th>Positive</th>\n      <th>Neutral</th>\n      <th>Negative</th>\n      <th>Text</th>\n      <th>Token</th>\n    </tr>\n  </thead>\n  <tbody>\n    <tr>\n      <th>0</th>\n      <td>-0.6705</td>\n      <td>0.064</td>\n      <td>0.737</td>\n      <td>0.199</td>\n      <td>A former Microsoft software engineer from Ukra...</td>\n      <td>former microsoft software engineer ukraine ha ...</td>\n    </tr>\n    <tr>\n      <th>1</th>\n      <td>0.6369</td>\n      <td>0.162</td>\n      <td>0.838</td>\n      <td>0.000</td>\n      <td>Visa has partnered with cryptocurrency startup...</td>\n      <td>visahas partnered cryptocurrency startup block...</td>\n    </tr>\n    <tr>\n      <th>2</th>\n      <td>0.2144</td>\n      <td>0.053</td>\n      <td>0.947</td>\n      <td>0.000</td>\n      <td>PayPal is bringing its newly-announced support...</td>\n      <td>paypal bringing newlyannounced support cryptoc...</td>\n    </tr>\n    <tr>\n      <th>3</th>\n      <td>0.2263</td>\n      <td>0.049</td>\n      <td>0.951</td>\n      <td>0.000</td>\n      <td>Two days ago, about $1 billion worth of bitcoi...</td>\n      <td>two day ago billion worth bitcoin sat dormant ...</td>\n    </tr>\n    <tr>\n      <th>4</th>\n      <td>0.2023</td>\n      <td>0.050</td>\n      <td>0.950</td>\n      <td>0.000</td>\n      <td>In November 2017, after an absolutely massive,...</td>\n      <td>november absolutely massive twomonth rally bit...</td>\n    </tr>\n  </tbody>\n</table>\n</div>"
     },
     "metadata": {},
     "execution_count": 106
    }
   ],
   "source": [
    "# Create a new tokens column for bitcoin\n",
    "bitcoin_sent_df[\"Token\"] = bitcoin_sent_df[\"Text\"].apply(tokenizer)\n",
    "bitcoin_sent_df.head()"
   ]
  },
  {
   "cell_type": "code",
   "execution_count": 107,
   "metadata": {},
   "outputs": [
    {
     "output_type": "execute_result",
     "data": {
      "text/plain": [
       "   Compound  Positive  Neutral  Negative  \\\n",
       "0    0.2144     0.053    0.947       0.0   \n",
       "1    0.0000     0.000    1.000       0.0   \n",
       "2    0.0000     0.000    1.000       0.0   \n",
       "3    0.4215     0.088    0.912       0.0   \n",
       "4    0.8779     0.318    0.682       0.0   \n",
       "\n",
       "                                                Text  \\\n",
       "0  PayPal is bringing its newly-announced support...   \n",
       "1  FILE PHOTO: Representation of the Ethereum vir...   \n",
       "2  FILE PHOTO: Representation of the Ethereum vir...   \n",
       "3  LONDON (Reuters) - Digital currencies Ethereum...   \n",
       "4  PayPal has launched the Generosity Network, a ...   \n",
       "\n",
       "                                               Token  \n",
       "0  paypal bringing newlyannounced support cryptoc...  \n",
       "1  file photo representation ethereum virtual cur...  \n",
       "2  file photo representation ethereum virtual cur...  \n",
       "3  london reuters digital currency ethereum xrp s...  \n",
       "4  paypal ha launched generosity network platform...  "
      ],
      "text/html": "<div>\n<style scoped>\n    .dataframe tbody tr th:only-of-type {\n        vertical-align: middle;\n    }\n\n    .dataframe tbody tr th {\n        vertical-align: top;\n    }\n\n    .dataframe thead th {\n        text-align: right;\n    }\n</style>\n<table border=\"1\" class=\"dataframe\">\n  <thead>\n    <tr style=\"text-align: right;\">\n      <th></th>\n      <th>Compound</th>\n      <th>Positive</th>\n      <th>Neutral</th>\n      <th>Negative</th>\n      <th>Text</th>\n      <th>Token</th>\n    </tr>\n  </thead>\n  <tbody>\n    <tr>\n      <th>0</th>\n      <td>0.2144</td>\n      <td>0.053</td>\n      <td>0.947</td>\n      <td>0.0</td>\n      <td>PayPal is bringing its newly-announced support...</td>\n      <td>paypal bringing newlyannounced support cryptoc...</td>\n    </tr>\n    <tr>\n      <th>1</th>\n      <td>0.0000</td>\n      <td>0.000</td>\n      <td>1.000</td>\n      <td>0.0</td>\n      <td>FILE PHOTO: Representation of the Ethereum vir...</td>\n      <td>file photo representation ethereum virtual cur...</td>\n    </tr>\n    <tr>\n      <th>2</th>\n      <td>0.0000</td>\n      <td>0.000</td>\n      <td>1.000</td>\n      <td>0.0</td>\n      <td>FILE PHOTO: Representation of the Ethereum vir...</td>\n      <td>file photo representation ethereum virtual cur...</td>\n    </tr>\n    <tr>\n      <th>3</th>\n      <td>0.4215</td>\n      <td>0.088</td>\n      <td>0.912</td>\n      <td>0.0</td>\n      <td>LONDON (Reuters) - Digital currencies Ethereum...</td>\n      <td>london reuters digital currency ethereum xrp s...</td>\n    </tr>\n    <tr>\n      <th>4</th>\n      <td>0.8779</td>\n      <td>0.318</td>\n      <td>0.682</td>\n      <td>0.0</td>\n      <td>PayPal has launched the Generosity Network, a ...</td>\n      <td>paypal ha launched generosity network platform...</td>\n    </tr>\n  </tbody>\n</table>\n</div>"
     },
     "metadata": {},
     "execution_count": 107
    }
   ],
   "source": [
    "# Create a new tokens column for ethereum\n",
    "ethereum_sent_df[\"Token\"] = ethereum_sent_df[\"Text\"].apply(tokenizer)\n",
    "ethereum_sent_df.head()"
   ]
  },
  {
   "source": [
    "## NGrams and Frequency Analysis"
   ],
   "cell_type": "markdown",
   "metadata": {}
  },
  {
   "cell_type": "code",
   "execution_count": 108,
   "metadata": {},
   "outputs": [],
   "source": [
    "from collections import Counter\n",
    "from nltk import ngrams"
   ]
  },
  {
   "cell_type": "code",
   "execution_count": 139,
   "metadata": {},
   "outputs": [
    {
     "output_type": "execute_result",
     "data": {
      "text/plain": [
       "[(('of', 'the'), 4),\n",
       " (('has', 'been'), 3),\n",
       " (('more', 'than'), 3),\n",
       " (('of', 'virtual'), 3),\n",
       " (('virtual', 'currency'), 3),\n",
       " (('currency', 'Bitcoin'), 3),\n",
       " (('in', 'this'), 3),\n",
       " (('illustration', 'taken'), 3),\n",
       " (('2020.', 'REUTERS/Dado'), 3),\n",
       " (('A', 'former'), 2),\n",
       " (('former', 'Microsoft'), 2),\n",
       " (('Microsoft', 'software'), 2),\n",
       " (('software', 'engineer'), 2),\n",
       " (('engineer', 'from'), 2),\n",
       " (('from', 'Ukraine'), 2),\n",
       " (('Ukraine', 'has'), 2),\n",
       " (('been', 'sentenced'), 2),\n",
       " (('sentenced', 'to'), 2),\n",
       " (('to', 'nine'), 2),\n",
       " (('nine', 'years'), 2)]"
      ]
     },
     "metadata": {},
     "execution_count": 139
    }
   ],
   "source": [
    "# Generate the Bitcoin N-grams where N=2\n",
    "bitcoin_grams = Counter(ngrams(bitcoin_sent_df[\"Text\"].str.cat().split(), n=2))\n",
    "bitcoin_grams.most_common(20)"
   ]
  },
  {
   "cell_type": "code",
   "execution_count": 153,
   "metadata": {},
   "outputs": [
    {
     "output_type": "execute_result",
     "data": {
      "text/plain": [
       "[(('virtual', 'currency'), 8),\n",
       " (('in', 'this'), 8),\n",
       " (('this', 'illustration'), 8),\n",
       " (('is', 'seen'), 7),\n",
       " (('seen', 'in'), 7),\n",
       " (('(Reuters)', '-'), 6),\n",
       " (('chars]By', 'Reuters'), 6),\n",
       " (('Reuters', 'Staff'), 6),\n",
       " (('of', 'virtual'), 6),\n",
       " (('currency', 'Bitcoin'), 6),\n",
       " (('illustration', 'taken'), 6),\n",
       " (('2020.', 'REUTERS/Dado'), 6),\n",
       " (('of', 'the'), 5),\n",
       " (('REUTERS/Dado', 'Ruvic/Illustration'), 5),\n",
       " (('FILE', 'PHOTO:'), 5),\n",
       " (('A', 'representation'), 5),\n",
       " (('representation', 'of'), 5),\n",
       " (('Bitcoin', 'is'), 5),\n",
       " (('taken', 'November'), 5),\n",
       " (('November', '19,'), 5)]"
      ]
     },
     "metadata": {},
     "execution_count": 153
    }
   ],
   "source": [
    "# Generate the Ethereum N-grams where N=2\n",
    "ethereum_grams = Counter(ngrams(ethereum_sent_df[\"Text\"].str.cat().split(), n=2))\n",
    "ethereum_grams.most_common(20)"
   ]
  },
  {
   "cell_type": "code",
   "execution_count": 151,
   "metadata": {},
   "outputs": [],
   "source": [
    "# Use the token_count function to generate the top 10 words from each coin\n",
    "def token_count(tokens, N=10):\n",
    "    \"\"\"Returns the top N tokens from the frequency count\"\"\"\n",
    "    #tokens = tokenizer(tokens)\n",
    "    top_10 = dict(Counter(tokens).most_common(10))\n",
    "    #return pd.DataFrame(list(top_10.items()), columns=['word', 'count'])\n",
    "    return Counter(tokens).most_common(10)"
   ]
  },
  {
   "cell_type": "code",
   "execution_count": 152,
   "metadata": {},
   "outputs": [
    {
     "output_type": "execute_result",
     "data": {
      "text/plain": [
       "[('the', 19),\n",
       " ('to', 16),\n",
       " ('of', 15),\n",
       " ('in', 14),\n",
       " ('a', 10),\n",
       " ('Bitcoin', 8),\n",
       " ('has', 7),\n",
       " ('with', 7),\n",
       " ('been', 6),\n",
       " ('that', 6)]"
      ]
     },
     "metadata": {},
     "execution_count": 152
    }
   ],
   "source": [
    "# Get the top 10 words for Bitcoin\n",
    "token_count(bitcoin_sent_df[\"Text\"].str.cat().split(), 10)\n"
   ]
  },
  {
   "cell_type": "code",
   "execution_count": 154,
   "metadata": {},
   "outputs": [
    {
     "output_type": "execute_result",
     "data": {
      "text/plain": [
       "[('of', 21),\n",
       " ('in', 16),\n",
       " ('the', 16),\n",
       " ('is', 14),\n",
       " ('to', 14),\n",
       " ('a', 14),\n",
       " ('Bitcoin', 11),\n",
       " ('this', 10),\n",
       " ('virtual', 9),\n",
       " ('and', 9)]"
      ]
     },
     "metadata": {},
     "execution_count": 154
    }
   ],
   "source": [
    "# Get the top 10 words for Ethereum\n",
    "token_count(ethereum_sent_df[\"Text\"].str.cat().split(), 10)"
   ]
  },
  {
   "source": [
    "## Word Clouds"
   ],
   "cell_type": "markdown",
   "metadata": {}
  },
  {
   "cell_type": "code",
   "execution_count": 155,
   "metadata": {},
   "outputs": [],
   "source": [
    "from wordcloud import WordCloud\n",
    "import matplotlib.pyplot as plt\n",
    "plt.style.use('seaborn-whitegrid')\n",
    "import matplotlib as mpl\n",
    "mpl.rcParams['figure.figsize'] = [20.0, 10.0]"
   ]
  },
  {
   "cell_type": "code",
   "execution_count": 24,
   "metadata": {},
   "outputs": [],
   "source": [
    "# Generate the Bitcoin word cloud"
   ]
  },
  {
   "cell_type": "code",
   "execution_count": 25,
   "metadata": {},
   "outputs": [],
   "source": [
    "# Generate the Ethereum word cloud"
   ]
  },
  {
   "source": [
    "## Named Entity Recognition"
   ],
   "cell_type": "markdown",
   "metadata": {}
  },
  {
   "cell_type": "code",
   "execution_count": 27,
   "metadata": {},
   "outputs": [],
   "source": [
    "import spacy\n",
    "from spacy import displacy"
   ]
  },
  {
   "cell_type": "code",
   "execution_count": 28,
   "metadata": {},
   "outputs": [],
   "source": [
    "# Optional - download a language model for SpaCy\n",
    "# !python -m spacy download en_core_web_sm"
   ]
  },
  {
   "cell_type": "code",
   "execution_count": 29,
   "metadata": {},
   "outputs": [
    {
     "output_type": "error",
     "ename": "OSError",
     "evalue": "[E050] Can't find model 'en_core_web_sm'. It doesn't seem to be a shortcut link, a Python package or a valid path to a data directory.",
     "traceback": [
      "\u001b[1;31m---------------------------------------------------------------------------\u001b[0m",
      "\u001b[1;31mOSError\u001b[0m                                   Traceback (most recent call last)",
      "\u001b[1;32m<ipython-input-29-298f4788b60f>\u001b[0m in \u001b[0;36m<module>\u001b[1;34m\u001b[0m\n\u001b[0;32m      1\u001b[0m \u001b[1;31m# Load the spaCy model\u001b[0m\u001b[1;33m\u001b[0m\u001b[1;33m\u001b[0m\u001b[1;33m\u001b[0m\u001b[0m\n\u001b[1;32m----> 2\u001b[1;33m \u001b[0mnlp\u001b[0m \u001b[1;33m=\u001b[0m \u001b[0mspacy\u001b[0m\u001b[1;33m.\u001b[0m\u001b[0mload\u001b[0m\u001b[1;33m(\u001b[0m\u001b[1;34m'en_core_web_sm'\u001b[0m\u001b[1;33m)\u001b[0m\u001b[1;33m\u001b[0m\u001b[1;33m\u001b[0m\u001b[0m\n\u001b[0m",
      "\u001b[1;32m~\\anaconda3\\lib\\site-packages\\spacy\\__init__.py\u001b[0m in \u001b[0;36mload\u001b[1;34m(name, **overrides)\u001b[0m\n\u001b[0;32m     28\u001b[0m     \u001b[1;32mif\u001b[0m \u001b[0mdepr_path\u001b[0m \u001b[1;32mnot\u001b[0m \u001b[1;32min\u001b[0m \u001b[1;33m(\u001b[0m\u001b[1;32mTrue\u001b[0m\u001b[1;33m,\u001b[0m \u001b[1;32mFalse\u001b[0m\u001b[1;33m,\u001b[0m \u001b[1;32mNone\u001b[0m\u001b[1;33m)\u001b[0m\u001b[1;33m:\u001b[0m\u001b[1;33m\u001b[0m\u001b[1;33m\u001b[0m\u001b[0m\n\u001b[0;32m     29\u001b[0m         \u001b[0mwarnings\u001b[0m\u001b[1;33m.\u001b[0m\u001b[0mwarn\u001b[0m\u001b[1;33m(\u001b[0m\u001b[0mWarnings\u001b[0m\u001b[1;33m.\u001b[0m\u001b[0mW001\u001b[0m\u001b[1;33m.\u001b[0m\u001b[0mformat\u001b[0m\u001b[1;33m(\u001b[0m\u001b[0mpath\u001b[0m\u001b[1;33m=\u001b[0m\u001b[0mdepr_path\u001b[0m\u001b[1;33m)\u001b[0m\u001b[1;33m,\u001b[0m \u001b[0mDeprecationWarning\u001b[0m\u001b[1;33m)\u001b[0m\u001b[1;33m\u001b[0m\u001b[1;33m\u001b[0m\u001b[0m\n\u001b[1;32m---> 30\u001b[1;33m     \u001b[1;32mreturn\u001b[0m \u001b[0mutil\u001b[0m\u001b[1;33m.\u001b[0m\u001b[0mload_model\u001b[0m\u001b[1;33m(\u001b[0m\u001b[0mname\u001b[0m\u001b[1;33m,\u001b[0m \u001b[1;33m**\u001b[0m\u001b[0moverrides\u001b[0m\u001b[1;33m)\u001b[0m\u001b[1;33m\u001b[0m\u001b[1;33m\u001b[0m\u001b[0m\n\u001b[0m\u001b[0;32m     31\u001b[0m \u001b[1;33m\u001b[0m\u001b[0m\n\u001b[0;32m     32\u001b[0m \u001b[1;33m\u001b[0m\u001b[0m\n",
      "\u001b[1;32m~\\anaconda3\\lib\\site-packages\\spacy\\util.py\u001b[0m in \u001b[0;36mload_model\u001b[1;34m(name, **overrides)\u001b[0m\n\u001b[0;32m    173\u001b[0m     \u001b[1;32melif\u001b[0m \u001b[0mhasattr\u001b[0m\u001b[1;33m(\u001b[0m\u001b[0mname\u001b[0m\u001b[1;33m,\u001b[0m \u001b[1;34m\"exists\"\u001b[0m\u001b[1;33m)\u001b[0m\u001b[1;33m:\u001b[0m  \u001b[1;31m# Path or Path-like to model data\u001b[0m\u001b[1;33m\u001b[0m\u001b[1;33m\u001b[0m\u001b[0m\n\u001b[0;32m    174\u001b[0m         \u001b[1;32mreturn\u001b[0m \u001b[0mload_model_from_path\u001b[0m\u001b[1;33m(\u001b[0m\u001b[0mname\u001b[0m\u001b[1;33m,\u001b[0m \u001b[1;33m**\u001b[0m\u001b[0moverrides\u001b[0m\u001b[1;33m)\u001b[0m\u001b[1;33m\u001b[0m\u001b[1;33m\u001b[0m\u001b[0m\n\u001b[1;32m--> 175\u001b[1;33m     \u001b[1;32mraise\u001b[0m \u001b[0mIOError\u001b[0m\u001b[1;33m(\u001b[0m\u001b[0mErrors\u001b[0m\u001b[1;33m.\u001b[0m\u001b[0mE050\u001b[0m\u001b[1;33m.\u001b[0m\u001b[0mformat\u001b[0m\u001b[1;33m(\u001b[0m\u001b[0mname\u001b[0m\u001b[1;33m=\u001b[0m\u001b[0mname\u001b[0m\u001b[1;33m)\u001b[0m\u001b[1;33m)\u001b[0m\u001b[1;33m\u001b[0m\u001b[1;33m\u001b[0m\u001b[0m\n\u001b[0m\u001b[0;32m    176\u001b[0m \u001b[1;33m\u001b[0m\u001b[0m\n\u001b[0;32m    177\u001b[0m \u001b[1;33m\u001b[0m\u001b[0m\n",
      "\u001b[1;31mOSError\u001b[0m: [E050] Can't find model 'en_core_web_sm'. It doesn't seem to be a shortcut link, a Python package or a valid path to a data directory."
     ]
    }
   ],
   "source": [
    "# Load the spaCy model\n",
    "nlp = spacy.load('en_core_web_sm')"
   ]
  },
  {
   "source": [
    "## Bitcoin NER"
   ],
   "cell_type": "markdown",
   "metadata": {}
  },
  {
   "cell_type": "code",
   "execution_count": 30,
   "metadata": {},
   "outputs": [],
   "source": [
    "# Concatenate all of the bitcoin text together"
   ]
  },
  {
   "cell_type": "code",
   "execution_count": 31,
   "metadata": {},
   "outputs": [],
   "source": [
    "# Run the NER processor on all of the text\n",
    "# YOUR CODE HERE!\n",
    "\n",
    "# Add a title to the document\n",
    "# YOUR CODE HERE!"
   ]
  },
  {
   "cell_type": "code",
   "execution_count": 32,
   "metadata": {},
   "outputs": [],
   "source": [
    "# Render the visualization"
   ]
  },
  {
   "cell_type": "code",
   "execution_count": 33,
   "metadata": {},
   "outputs": [],
   "source": [
    "# List all Entities"
   ]
  },
  {
   "source": [
    "##  Ethereum NER"
   ],
   "cell_type": "markdown",
   "metadata": {}
  },
  {
   "cell_type": "code",
   "execution_count": 34,
   "metadata": {},
   "outputs": [],
   "source": [
    "# Concatenate all of the ethereum text together"
   ]
  },
  {
   "cell_type": "code",
   "execution_count": 35,
   "metadata": {},
   "outputs": [],
   "source": [
    "# Run the NER processor on all of the text\n",
    "# YOUR CODE HERE!\n",
    "\n",
    "# Add a title to the document\n",
    "# YOUR CODE HERE!"
   ]
  },
  {
   "cell_type": "code",
   "execution_count": 36,
   "metadata": {},
   "outputs": [],
   "source": [
    "# Render the visualization"
   ]
  },
  {
   "cell_type": "code",
   "execution_count": null,
   "metadata": {},
   "outputs": [],
   "source": [
    "# List all Entities"
   ]
  }
 ]
}